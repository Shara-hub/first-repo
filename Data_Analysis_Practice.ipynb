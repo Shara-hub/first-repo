{
  "nbformat": 4,
  "nbformat_minor": 0,
  "metadata": {
    "colab": {
      "provenance": [],
      "authorship_tag": "ABX9TyNdLY9Qsy9oDmY3ZXs7/cEk",
      "include_colab_link": true
    },
    "kernelspec": {
      "name": "python3",
      "display_name": "Python 3"
    },
    "language_info": {
      "name": "python"
    }
  },
  "cells": [
    {
      "cell_type": "markdown",
      "metadata": {
        "id": "view-in-github",
        "colab_type": "text"
      },
      "source": [
        "<a href=\"https://colab.research.google.com/github/Shara-hub/first-repo/blob/main/Data_Analysis_Practice.ipynb\" target=\"_parent\"><img src=\"https://colab.research.google.com/assets/colab-badge.svg\" alt=\"Open In Colab\"/></a>"
      ]
    },
    {
      "cell_type": "code",
      "source": [
        "# Import Libraries\n",
        "import pandas as pd\n",
        "import matplotlib.pyplot as plt\n",
        "import seaborn as sns\n",
        "\n",
        "# Step 1: Load the Dataset\n",
        "url = \"https://archive.ics.uci.edu/ml/machine-learning-databases/00320/student.zip\"\n",
        "dataset_path = \"student-mat.csv\"\n",
        "\n",
        "#Download and Load the Dataset\n",
        "import urllib.request\n",
        "import zipfile\n",
        "\n",
        "#Download the Dataset\n",
        "urllib.request.urlretrieve(url, \"student.zip\")\n",
        "\n",
        "#Extract the Dataset\n",
        "with zipfile.ZipFile(\"student.zip\", \"r\") as zip_ref:\n",
        "    zip_ref.extractall()\n",
        "\n",
        "#Load the data into a Dataframe\n",
        "    data = pd.read_csv(dataset_path, sep=\";\")\n",
        "    print(\"Data loaded successfully!\")\n",
        "    data = pd.read_csv(dataset_path, sep=\";\")\n",
        "    print(\"Data loaded successfully!\")"
      ],
      "metadata": {
        "colab": {
          "base_uri": "https://localhost:8080/"
        },
        "id": "mKERmh4yUPlT",
        "outputId": "39890eae-9e00-4918-85db-fb5eced98fd0"
      },
      "execution_count": 13,
      "outputs": [
        {
          "output_type": "stream",
          "name": "stdout",
          "text": [
            "Data loaded successfully!\n",
            "Data loaded successfully!\n"
          ]
        }
      ]
    },
    {
      "cell_type": "code",
      "source": [
        "# Step 2: Data Exploration\n",
        "print(data.head()) #To display the first few rows\n",
        "print(\"\\nDataset Info:\")\n",
        "print(data.info()) #To check datatypes and missing values\n"
      ],
      "metadata": {
        "colab": {
          "base_uri": "https://localhost:8080/"
        },
        "id": "HgJN8GShO6sB",
        "outputId": "f512cf29-006f-433a-a5e9-233c1a8d079f"
      },
      "execution_count": 10,
      "outputs": [
        {
          "output_type": "stream",
          "name": "stdout",
          "text": [
            "  school sex  age address famsize Pstatus  Medu  Fedu     Mjob      Fjob  ...  \\\n",
            "0     GP   F   18       U     GT3       A     4     4  at_home   teacher  ...   \n",
            "1     GP   F   17       U     GT3       T     1     1  at_home     other  ...   \n",
            "2     GP   F   15       U     LE3       T     1     1  at_home     other  ...   \n",
            "3     GP   F   15       U     GT3       T     4     2   health  services  ...   \n",
            "4     GP   F   16       U     GT3       T     3     3    other     other  ...   \n",
            "\n",
            "  famrel freetime  goout  Dalc  Walc health absences  G1  G2  G3  \n",
            "0      4        3      4     1     1      3        6   5   6   6  \n",
            "1      5        3      3     1     1      3        4   5   5   6  \n",
            "2      4        3      2     2     3      3       10   7   8  10  \n",
            "3      3        2      2     1     1      5        2  15  14  15  \n",
            "4      4        3      2     1     2      5        4   6  10  10  \n",
            "\n",
            "[5 rows x 33 columns]\n",
            "\n",
            "Dataset Info:\n",
            "<class 'pandas.core.frame.DataFrame'>\n",
            "RangeIndex: 395 entries, 0 to 394\n",
            "Data columns (total 33 columns):\n",
            " #   Column      Non-Null Count  Dtype \n",
            "---  ------      --------------  ----- \n",
            " 0   school      395 non-null    object\n",
            " 1   sex         395 non-null    object\n",
            " 2   age         395 non-null    int64 \n",
            " 3   address     395 non-null    object\n",
            " 4   famsize     395 non-null    object\n",
            " 5   Pstatus     395 non-null    object\n",
            " 6   Medu        395 non-null    int64 \n",
            " 7   Fedu        395 non-null    int64 \n",
            " 8   Mjob        395 non-null    object\n",
            " 9   Fjob        395 non-null    object\n",
            " 10  reason      395 non-null    object\n",
            " 11  guardian    395 non-null    object\n",
            " 12  traveltime  395 non-null    int64 \n",
            " 13  studytime   395 non-null    int64 \n",
            " 14  failures    395 non-null    int64 \n",
            " 15  schoolsup   395 non-null    object\n",
            " 16  famsup      395 non-null    object\n",
            " 17  paid        395 non-null    object\n",
            " 18  activities  395 non-null    object\n",
            " 19  nursery     395 non-null    object\n",
            " 20  higher      395 non-null    object\n",
            " 21  internet    395 non-null    object\n",
            " 22  romantic    395 non-null    object\n",
            " 23  famrel      395 non-null    int64 \n",
            " 24  freetime    395 non-null    int64 \n",
            " 25  goout       395 non-null    int64 \n",
            " 26  Dalc        395 non-null    int64 \n",
            " 27  Walc        395 non-null    int64 \n",
            " 28  health      395 non-null    int64 \n",
            " 29  absences    395 non-null    int64 \n",
            " 30  G1          395 non-null    int64 \n",
            " 31  G2          395 non-null    int64 \n",
            " 32  G3          395 non-null    int64 \n",
            "dtypes: int64(16), object(17)\n",
            "memory usage: 102.0+ KB\n",
            "None\n"
          ]
        }
      ]
    },
    {
      "cell_type": "code",
      "source": [
        "# Step 3: Data Cleaning and to Check for Missing Values\n",
        "print(\"\\nMissing Values:\")\n",
        "print(data.isnull().sum()) #To check missing values"
      ],
      "metadata": {
        "colab": {
          "base_uri": "https://localhost:8080/"
        },
        "id": "0eh6QMv1Qi-7",
        "outputId": "f0a4521f-5cd5-4046-be71-a3805c2e871b"
      },
      "execution_count": 11,
      "outputs": [
        {
          "output_type": "stream",
          "name": "stdout",
          "text": [
            "\n",
            "Missing Values:\n",
            "school        0\n",
            "sex           0\n",
            "age           0\n",
            "address       0\n",
            "famsize       0\n",
            "Pstatus       0\n",
            "Medu          0\n",
            "Fedu          0\n",
            "Mjob          0\n",
            "Fjob          0\n",
            "reason        0\n",
            "guardian      0\n",
            "traveltime    0\n",
            "studytime     0\n",
            "failures      0\n",
            "schoolsup     0\n",
            "famsup        0\n",
            "paid          0\n",
            "activities    0\n",
            "nursery       0\n",
            "higher        0\n",
            "internet      0\n",
            "romantic      0\n",
            "famrel        0\n",
            "freetime      0\n",
            "goout         0\n",
            "Dalc          0\n",
            "Walc          0\n",
            "health        0\n",
            "absences      0\n",
            "G1            0\n",
            "G2            0\n",
            "G3            0\n",
            "dtype: int64\n"
          ]
        }
      ]
    },
    {
      "cell_type": "code",
      "source": [
        "# To remove duplicates\n",
        "data = data.drop_duplicates()"
      ],
      "metadata": {
        "id": "M90eakc0RnRz"
      },
      "execution_count": 14,
      "outputs": []
    },
    {
      "cell_type": "code",
      "source": [
        "# Step 4: Data Analysis\n",
        "# Question no. 1: What is the average score in math (G3)?\n",
        "average_score = data['G3'].mean()\n",
        "print(f\"\\nAverage Math Score (G3): {average_score:.2f}\")"
      ],
      "metadata": {
        "colab": {
          "base_uri": "https://localhost:8080/"
        },
        "id": "1_WaWIiyR7HF",
        "outputId": "d8be5ec5-4f4a-4f9f-961c-7ceb7380d89b"
      },
      "execution_count": 17,
      "outputs": [
        {
          "output_type": "stream",
          "name": "stdout",
          "text": [
            "\n",
            "Average Math Score (G3): 10.42\n"
          ]
        }
      ]
    },
    {
      "cell_type": "code",
      "source": [
        "# Question no. 2: How many students scored above 15 in their final grade (G3)?\n",
        "students_above_15 = len(data[data['G3'] > 15])\n",
        "print(f\"Number of students scoring above 15: {students_above_15}\")"
      ],
      "metadata": {
        "colab": {
          "base_uri": "https://localhost:8080/"
        },
        "id": "lZ386cnqUJOZ",
        "outputId": "b09870c9-00be-4a82-c50e-2c9d4dc2de77"
      },
      "execution_count": 18,
      "outputs": [
        {
          "output_type": "stream",
          "name": "stdout",
          "text": [
            "Number of students scoring above 15: 40\n"
          ]
        }
      ]
    },
    {
      "cell_type": "code",
      "source": [
        "# Question no. 3: Is there a correlation between study time (study time) and the final grade (G3)?\n",
        "correlation = data['studytime'].corr(data['G3'])\n",
        "print(f\"Correlation between study time and final grade: {correlation:.2f}\")"
      ],
      "metadata": {
        "colab": {
          "base_uri": "https://localhost:8080/"
        },
        "id": "5q8MFgUnWPRn",
        "outputId": "1a0485e7-b55a-435e-d3ae-85e527b2e695"
      },
      "execution_count": 19,
      "outputs": [
        {
          "output_type": "stream",
          "name": "stdout",
          "text": [
            "Correlation between study time and final grade: 0.10\n"
          ]
        }
      ]
    },
    {
      "cell_type": "code",
      "source": [
        "# Question no. 4: Which gender has a higher average final grade (G3)?\n",
        "average_grades_by_gender = data.groupby('sex')['G3'].mean()\n",
        "print(\"/nAverage Final Grades by Gender:\")\n",
        "print(average_grades_by_gender)\n"
      ],
      "metadata": {
        "colab": {
          "base_uri": "https://localhost:8080/"
        },
        "id": "aPZtLSFEXRp_",
        "outputId": "4c18ddd3-de18-43ca-c80f-6fc016c60712"
      },
      "execution_count": 20,
      "outputs": [
        {
          "output_type": "stream",
          "name": "stdout",
          "text": [
            "/nAverage Final Grades by Gender:\n",
            "sex\n",
            "F     9.966346\n",
            "M    10.914439\n",
            "Name: G3, dtype: float64\n"
          ]
        }
      ]
    },
    {
      "cell_type": "code",
      "source": [
        "# Step 5: Data Visualization - Histogram of Final Grades\n",
        "plt.figure(figsize=(8, 5))\n",
        "plt.hist(data['G3'], bins=10, color='yellow', edgecolor='black')\n",
        "plt.title(\"Distribution of Final Grades (G3)\")\n",
        "plt.xlabel(\"Final Grade (G3)\")\n",
        "plt.ylabel(\"Frequency\")\n",
        "plt.show()\n"
      ],
      "metadata": {
        "colab": {
          "base_uri": "https://localhost:8080/",
          "height": 487
        },
        "id": "0B2mVkQbYPwO",
        "outputId": "3e5d3159-f7da-43f6-f23c-52bc78e5b7de"
      },
      "execution_count": 22,
      "outputs": [
        {
          "output_type": "display_data",
          "data": {
            "text/plain": [
              "<Figure size 800x500 with 1 Axes>"
            ],
            "image/png": "[encoded data removed]"
          },
          "metadata": {}
        }
      ]
    },
    {
      "cell_type": "code",
      "source": [],
      "metadata": {
        "id": "h3CKkxsHac-C"
      },
      "execution_count": null,
      "outputs": []
    },
    {
      "cell_type": "code",
      "source": [
        "import pandas as pd\n",
        "import matplotlib.pyplot as plt\n",
        "import seaborn as sns\n",
        "\n",
        "url = \"https://archive.ics.uci.edu/ml/machine-learning-databases/00320/student.zip\"\n",
        "dataset_path = \"student-mat.csv\"\n",
        "\n",
        "import urllib.request\n",
        "import zipfile\n",
        "\n",
        "urllib.request.urlretrieve(url, \"student.zip\")\n",
        "\n",
        "with zipfile.ZipFile(\"student.zip\", \"r\") as zip_ref:\n",
        "    zip_ref.extractall()\n",
        "\n",
        "    data = pd.read_csv(dataset_path, sep=\";\")\n",
        "    print(\"Data loaded successfully!\")\n",
        "    data = pd.read_csv(dataset_path, sep=\";\")\n",
        "    print(\"Data loaded successfully!\")\n",
        ""
      ],
      "metadata": {
        "colab": {
          "base_uri": "https://localhost:8080/"
        },
        "id": "Gx5--4tIQYMC",
        "outputId": "d399a3a7-9bc2-4366-94b8-a0f1a3577e5f"
      },
      "execution_count": 6,
      "outputs": [
        {
          "output_type": "stream",
          "name": "stdout",
          "text": [
            "Data loaded successfully!\n",
            "Data loaded successfully!\n"
          ]
        }
      ]
    },
    {
      "cell_type": "code",
      "source": [
        "# Scatter plot of study time versus final grade\n",
        "plt.figure(figsize=(8, 5))\n",
        "sns.scatterplot(data=data, x='studytime', y='G3', hue='sex')\n",
        "plt.title(\"Study Time versus Final Grade\")\n",
        "plt.xlabel(\"Study Time (hours)\")\n",
        "plt.ylabel(\"Final Grade (G3)\")\n",
        "plt.legend(title=\"Gender\")\n",
        "plt.show()\n"
      ],
      "metadata": {
        "colab": {
          "base_uri": "https://localhost:8080/",
          "height": 487
        },
        "id": "iDlrmTayQg4k",
        "outputId": "3b05d99d-1c41-4bad-9ca4-5a892690acbc"
      },
      "execution_count": 7,
      "outputs": [
        {
          "output_type": "display_data",
          "data": {
            "text/plain": [
              "<Figure size 800x500 with 1 Axes>"
            ],
            "image/png": "[encoded data removed]"
          },
          "metadata": {}
        }
      ]
    },
    {
      "cell_type": "code",
      "source": [
        "# Bar chart of average scores by gender\n",
        "plt.figure(figsize=(8, 5))\n",
        "average_grades_by_gender.plot(kind='bar', color=['green', 'red'])\n",
        "plt.title(\"Average Final Grade by Gender\")\n",
        "plt.xlabel(\"Gender\")\n",
        "plt.ylabel(\"Average Final Grade\")\n",
        "plt.xticks(rotational=0)\n",
        "plt.show()"
      ],
      "metadata": {
        "colab": {
          "base_uri": "https://localhost:8080/",
          "height": 228
        },
        "id": "_abjNLqiSeaT",
        "outputId": "24c6b124-862a-40d3-daf6-c114d4f6f0a8"
      },
      "execution_count": 9,
      "outputs": [
        {
          "output_type": "error",
          "ename": "NameError",
          "evalue": "name 'average_grades_by_gender' is not defined",
          "traceback": [
            "\u001b[0;31m---------------------------------------------------------------------------\u001b[0m",
            "\u001b[0;31mNameError\u001b[0m                                 Traceback (most recent call last)",
            "\u001b[0;32m<ipython-input-9-f7672d91be06>\u001b[0m in \u001b[0;36m<cell line: 3>\u001b[0;34m()\u001b[0m\n\u001b[1;32m      1\u001b[0m \u001b[0;31m# Bar chart of average scores by gender\u001b[0m\u001b[0;34m\u001b[0m\u001b[0;34m\u001b[0m\u001b[0m\n\u001b[1;32m      2\u001b[0m \u001b[0mplt\u001b[0m\u001b[0;34m.\u001b[0m\u001b[0mfigure\u001b[0m\u001b[0;34m(\u001b[0m\u001b[0mfigsize\u001b[0m\u001b[0;34m=\u001b[0m\u001b[0;34m(\u001b[0m\u001b[0;36m8\u001b[0m\u001b[0;34m,\u001b[0m \u001b[0;36m5\u001b[0m\u001b[0;34m)\u001b[0m\u001b[0;34m)\u001b[0m\u001b[0;34m\u001b[0m\u001b[0;34m\u001b[0m\u001b[0m\n\u001b[0;32m----> 3\u001b[0;31m \u001b[0maverage_grades_by_gender\u001b[0m\u001b[0;34m.\u001b[0m\u001b[0mplot\u001b[0m\u001b[0;34m(\u001b[0m\u001b[0mkind\u001b[0m\u001b[0;34m=\u001b[0m\u001b[0;34m'bar'\u001b[0m\u001b[0;34m,\u001b[0m \u001b[0mcolor\u001b[0m\u001b[0;34m=\u001b[0m\u001b[0;34m[\u001b[0m\u001b[0;34m'green'\u001b[0m\u001b[0;34m,\u001b[0m \u001b[0;34m'red'\u001b[0m\u001b[0;34m]\u001b[0m\u001b[0;34m)\u001b[0m\u001b[0;34m\u001b[0m\u001b[0;34m\u001b[0m\u001b[0m\n\u001b[0m\u001b[1;32m      4\u001b[0m \u001b[0mplt\u001b[0m\u001b[0;34m.\u001b[0m\u001b[0mtitle\u001b[0m\u001b[0;34m(\u001b[0m\u001b[0;34m\"Average Final Grade by Gender\"\u001b[0m\u001b[0;34m)\u001b[0m\u001b[0;34m\u001b[0m\u001b[0;34m\u001b[0m\u001b[0m\n\u001b[1;32m      5\u001b[0m \u001b[0mplt\u001b[0m\u001b[0;34m.\u001b[0m\u001b[0mxlabel\u001b[0m\u001b[0;34m(\u001b[0m\u001b[0;34m\"Gender\"\u001b[0m\u001b[0;34m)\u001b[0m\u001b[0;34m\u001b[0m\u001b[0;34m\u001b[0m\u001b[0m\n",
            "\u001b[0;31mNameError\u001b[0m: name 'average_grades_by_gender' is not defined"
          ]
        },
        {
          "output_type": "display_data",
          "data": {
            "text/plain": [
              "<Figure size 800x500 with 0 Axes>"
            ]
          },
          "metadata": {}
        }
      ]
    },
    {
      "cell_type": "code",
      "source": [
        "# Bar chart of average scores by gender\n",
        "plt.figure(figsize=(8, 5))\n",
        "average_grades_by_gender = data.groupby('sex')['G3'].mean()\n",
        "average_grades_by_gender.plot(kind='bar', color=['pink', 'blue'])\n",
        "plt.title(\"Average Final Grade by Gender\")\n",
        "plt.xlabel(\"Gender\")\n",
        "plt.ylabel(\"Average Final Grade\")\n",
        "plt.xticks(rotation=0)\n",
        "plt.show()"
      ],
      "metadata": {
        "colab": {
          "base_uri": "https://localhost:8080/",
          "height": 487
        },
        "id": "XZMWpFlgTNck",
        "outputId": "ca0b70ff-3fb9-4d21-c157-1541bf7bc40d"
      },
      "execution_count": 12,
      "outputs": [
        {
          "output_type": "display_data",
          "data": {
            "text/plain": [
              "<Figure size 800x500 with 1 Axes>"
            ],
            "image/png": "[encoded data removed]"
          },
          "metadata": {}
        }
      ]
    }
  ]
}